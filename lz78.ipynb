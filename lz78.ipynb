{
  "nbformat": 4,
  "nbformat_minor": 0,
  "metadata": {
    "colab": {
      "name": "lz78.ipynb",
      "provenance": [],
      "authorship_tag": "ABX9TyO/3P7z6F7KV+rbISFwahSY",
      "include_colab_link": true
    },
    "kernelspec": {
      "name": "python3",
      "display_name": "Python 3"
    }
  },
  "cells": [
    {
      "cell_type": "markdown",
      "metadata": {
        "id": "view-in-github",
        "colab_type": "text"
      },
      "source": [
        "<a href=\"https://colab.research.google.com/github/wsilveira-splunk/lz78_algorithm/blob/master/lz78.ipynb\" target=\"_parent\"><img src=\"https://colab.research.google.com/assets/colab-badge.svg\" alt=\"Open In Colab\"/></a>"
      ]
    },
    {
      "cell_type": "code",
      "metadata": {
        "colab": {
          "base_uri": "https://localhost:8080/"
        },
        "id": "fp6ZV_yzLs1T",
        "outputId": "c4ddcad0-eff8-4833-80d6-206850ad1086"
      },
      "source": [
        "%%bash\n",
        "\n",
        "cd /content/\n",
        "\n",
        "if [ ! -d \"lz78_algorithm\" ]; then\n",
        "  git clone https://github.com/wsilveira-splunk/lz78_algorithm.git\n",
        "fi\n",
        "\n",
        "cd lz78_algorithm\n",
        "git pull origin master\n",
        "cd -"
      ],
      "execution_count": 6,
      "outputs": [
        {
          "output_type": "stream",
          "text": [
            "Updating cc400d3..10698f0\n",
            "Fast-forward\n",
            " files/seq.bin | Bin 0 -> 50000 bytes\n",
            " files/seq.mat | Bin 0 -> 8009 bytes\n",
            " files/seq.txt |   1 +\n",
            " lz78.ipynb    | 163 ++++++++++++++++++++++++++++++++++++++++++++++++++++++++--\n",
            " 4 files changed, 161 insertions(+), 3 deletions(-)\n",
            " create mode 100644 files/seq.bin\n",
            " create mode 100644 files/seq.mat\n",
            " create mode 100644 files/seq.txt\n",
            "/content\n"
          ],
          "name": "stdout"
        },
        {
          "output_type": "stream",
          "text": [
            "From https://github.com/wsilveira-splunk/lz78_algorithm\n",
            " * branch            master     -> FETCH_HEAD\n",
            "   cc400d3..10698f0  master     -> origin/master\n"
          ],
          "name": "stderr"
        }
      ]
    },
    {
      "cell_type": "code",
      "metadata": {
        "id": "tyPwFYjXKlFm"
      },
      "source": [
        "import os\n",
        "import numpy as np"
      ],
      "execution_count": 50,
      "outputs": []
    },
    {
      "cell_type": "code",
      "metadata": {
        "id": "uyVu25wKLaNO"
      },
      "source": [
        "def lz78_compress(raw_text):\n",
        "\n",
        "    dictionary = {'': 0}\n",
        "\n",
        "    last_seq_letter = ''\n",
        "    lz78_text = ''\n",
        "\n",
        "    for letter in raw_text:\n",
        "        cur_seq_letter = last_seq_letter + letter\n",
        "        if cur_seq_letter in dictionary:\n",
        "            last_seq_letter = cur_seq_letter\n",
        "        else:\n",
        "            lz78_text += f'{dictionary[last_seq_letter]:012b}' + letter\n",
        "            dictionary[cur_seq_letter] = len(dictionary)\n",
        "            last_seq_letter = ''\n",
        "\n",
        "    if last_seq_letter != '':\n",
        "        lz78_text += f'{dictionary[last_seq_letter]:012b}'\n",
        "\n",
        "    #print(dictionary)\n",
        "\n",
        "    return lz78_text"
      ],
      "execution_count": 47,
      "outputs": []
    },
    {
      "cell_type": "code",
      "metadata": {
        "id": "oH5rJ9QfLeia"
      },
      "source": [
        "def lz78_decompress(lz78_text):\n",
        "\n",
        "    dictionary = {f'{0:012b}': ''}\n",
        "\n",
        "    raw_text = ''\n",
        "    seq_letter = ''\n",
        "\n",
        "    for idx, letter in enumerate(lz78_text, 1):\n",
        "        if (idx % 13) == 0:\n",
        "            raw_text += dictionary[seq_letter] + letter\n",
        "            dictionary[\n",
        "                f'{len(dictionary):012b}'] = dictionary[seq_letter] + letter\n",
        "            seq_letter = ''\n",
        "        else:\n",
        "            seq_letter += letter\n",
        "\n",
        "    if seq_letter != '':\n",
        "        raw_text += dictionary[seq_letter]\n",
        "\n",
        "    #print(dictionary)\n",
        "\n",
        "    return raw_text"
      ],
      "execution_count": 48,
      "outputs": []
    },
    {
      "cell_type": "code",
      "metadata": {
        "colab": {
          "base_uri": "https://localhost:8080/"
        },
        "id": "VMTA-WwILp_O",
        "outputId": "ae03e0af-1a30-43b6-bf83-81fa3d4324ca"
      },
      "source": [
        "seq_bin_path = '/content/lz78_algorithm/files/seq.txt'\n",
        "\n",
        "with open(seq_bin_path) as file:\n",
        "    data = file.read()\n",
        "    print('Length of read data: {} bits'.format(len(data)))\n",
        "\n",
        "    compressed = lz78_compress(data)\n",
        "    print('Length of compressed data: {} bits'.format(len(compressed)))\n",
        "    decompressed = lz78_decompress(compressed)\n",
        "    print('Length of decompressed data: {} bits'.format(len(decompressed)))\n",
        "\n",
        "    if data == decompressed:\n",
        "        print('\\nDecompressed data matches compressed data - bingo!\\n')"
      ],
      "execution_count": 49,
      "outputs": [
        {
          "output_type": "stream",
          "text": [
            "Length of read data: 400000 bits\n",
            "Length of compressed data: 49282 bits\n",
            "Length of decompressed data: 400000 bits\n",
            "\n",
            "Decompressed data matches compressed data - bingo!\n",
            "\n"
          ],
          "name": "stdout"
        }
      ]
    },
    {
      "cell_type": "code",
      "metadata": {
        "colab": {
          "base_uri": "https://localhost:8080/"
        },
        "id": "RxjbEI1qRjpN",
        "outputId": "4dbbc247-6e64-42e1-d0bd-78231927e41b"
      },
      "source": [
        "seq_bin_path = '/content/lz78_algorithm/files/seq.bin'\n",
        "\n",
        "sum_ones = 0\n",
        "sum_zeros = 0\n",
        "\n",
        "with open(seq_bin_path, 'rb') as file:\n",
        "    data = file.read()\n",
        "    for _byte in data:\n",
        "        for _bit in str(bin(_byte)):\n",
        "            #print(_bit)\n",
        "            if _bit == '1':\n",
        "                sum_ones += 1\n",
        "                \n",
        "sum_zeros = len(data) * 8 - sum_ones\n",
        "\n",
        "print('Sum of ones of original data: {}'.format(sum_ones))\n",
        "print('Sum of zeros of original data: {}'.format(sum_zeros))"
      ],
      "execution_count": 58,
      "outputs": [
        {
          "output_type": "stream",
          "text": [
            "Sum of ones of original data: 384812\n",
            "Sum of zeros of original data: 15188\n"
          ],
          "name": "stdout"
        }
      ]
    },
    {
      "cell_type": "code",
      "metadata": {
        "id": "V27OQ1cXgOZ_"
      },
      "source": [
        "def autocorr(x):\n",
        "    return np.correlate(x, x, mode='full')\n",
        "\n",
        "def normalize_data(data):\n",
        "    "
      ],
      "execution_count": null,
      "outputs": []
    }
  ]
}