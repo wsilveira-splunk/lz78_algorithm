{
  "nbformat": 4,
  "nbformat_minor": 0,
  "metadata": {
    "colab": {
      "name": "lz78.ipynb",
      "provenance": [],
      "authorship_tag": "ABX9TyOnTLMtIV2pQPfeG/O8YoAv",
      "include_colab_link": true
    },
    "kernelspec": {
      "name": "python3",
      "display_name": "Python 3"
    }
  },
  "cells": [
    {
      "cell_type": "markdown",
      "metadata": {
        "id": "view-in-github",
        "colab_type": "text"
      },
      "source": [
        "<a href=\"https://colab.research.google.com/github/wsilveira-splunk/lz78_algorithm/blob/master/lz78.ipynb\" target=\"_parent\"><img src=\"https://colab.research.google.com/assets/colab-badge.svg\" alt=\"Open In Colab\"/></a>"
      ]
    },
    {
      "cell_type": "code",
      "metadata": {
        "colab": {
          "base_uri": "https://localhost:8080/"
        },
        "id": "fp6ZV_yzLs1T",
        "outputId": "2e097490-f1db-4102-e771-34fcae09e63b"
      },
      "source": [
        "%%bash\n",
        "\n",
        "cd /content/\n",
        "\n",
        "if [ ! -d \"lz78_algorithm\" ]; then\n",
        "  git clone https://github.com/wsilveira-splunk/lz78_algorithm.git\n",
        "fi\n",
        "\n",
        "cd lz78_algorithm\n",
        "git pull origin master\n",
        "cd -"
      ],
      "execution_count": 1,
      "outputs": [
        {
          "output_type": "stream",
          "text": [
            "Already up to date.\n",
            "/content\n"
          ],
          "name": "stdout"
        },
        {
          "output_type": "stream",
          "text": [
            "From https://github.com/wsilveira-splunk/lz78_algorithm\n",
            " * branch            master     -> FETCH_HEAD\n"
          ],
          "name": "stderr"
        }
      ]
    },
    {
      "cell_type": "code",
      "metadata": {
        "id": "tyPwFYjXKlFm"
      },
      "source": [
        "import os\n",
        "import numpy as np\n",
        "import matplotlib.pyplot as plt"
      ],
      "execution_count": 2,
      "outputs": []
    },
    {
      "cell_type": "code",
      "metadata": {
        "id": "uyVu25wKLaNO"
      },
      "source": [
        "def lz78_compress(raw_text):\n",
        "\n",
        "    dictionary = {'': 0}\n",
        "\n",
        "    last_seq_letter = ''\n",
        "    lz78_text = ''\n",
        "\n",
        "    for letter in raw_text:\n",
        "        cur_seq_letter = last_seq_letter + letter\n",
        "        if cur_seq_letter in dictionary:\n",
        "            last_seq_letter = cur_seq_letter\n",
        "        else:\n",
        "            lz78_text += f'{dictionary[last_seq_letter]:012b}' + letter\n",
        "            dictionary[cur_seq_letter] = len(dictionary)\n",
        "            last_seq_letter = ''\n",
        "\n",
        "    if last_seq_letter != '':\n",
        "        lz78_text += f'{dictionary[last_seq_letter]:012b}'\n",
        "\n",
        "    #print(dictionary)\n",
        "\n",
        "    return lz78_text"
      ],
      "execution_count": 3,
      "outputs": []
    },
    {
      "cell_type": "code",
      "metadata": {
        "id": "oH5rJ9QfLeia"
      },
      "source": [
        "def lz78_decompress(lz78_text):\n",
        "\n",
        "    dictionary = {f'{0:012b}': ''}\n",
        "\n",
        "    raw_text = ''\n",
        "    seq_letter = ''\n",
        "\n",
        "    for idx, letter in enumerate(lz78_text, 1):\n",
        "        if (idx % 13) == 0:\n",
        "            raw_text += dictionary[seq_letter] + letter\n",
        "            dictionary[\n",
        "                f'{len(dictionary):012b}'] = dictionary[seq_letter] + letter\n",
        "            seq_letter = ''\n",
        "        else:\n",
        "            seq_letter += letter\n",
        "\n",
        "    if seq_letter != '':\n",
        "        raw_text += dictionary[seq_letter]\n",
        "\n",
        "    #print(dictionary)\n",
        "\n",
        "    return raw_text"
      ],
      "execution_count": 4,
      "outputs": []
    },
    {
      "cell_type": "code",
      "metadata": {
        "colab": {
          "base_uri": "https://localhost:8080/"
        },
        "id": "VMTA-WwILp_O",
        "outputId": "72e5fa76-7820-4cdc-dc65-c546087baf5c"
      },
      "source": [
        "seq_bin_path = '/content/lz78_algorithm/files/seq.txt'\n",
        "\n",
        "with open(seq_bin_path) as file:\n",
        "    data = file.read()\n",
        "    print('Length of read data: {} bits'.format(len(data)))\n",
        "\n",
        "    compressed = lz78_compress(data)\n",
        "    print('Length of compressed data: {} bits'.format(len(compressed)))\n",
        "    decompressed = lz78_decompress(compressed)\n",
        "    print('Length of decompressed data: {} bits'.format(len(decompressed)))\n",
        "\n",
        "    if data == decompressed:\n",
        "        print('\\nDecompressed data matches compressed data - bingo!\\n')"
      ],
      "execution_count": 5,
      "outputs": [
        {
          "output_type": "stream",
          "text": [
            "Length of read data: 400000 bits\n",
            "Length of compressed data: 49282 bits\n",
            "Length of decompressed data: 400000 bits\n",
            "\n",
            "Decompressed data matches compressed data - bingo!\n",
            "\n"
          ],
          "name": "stdout"
        }
      ]
    },
    {
      "cell_type": "code",
      "metadata": {
        "id": "zStsqK52xSl7"
      },
      "source": [
        "def normalize_data(data):\n",
        "    norm_data = []\n",
        "    \n",
        "    for _byte in data:\n",
        "        __byte = f'{_byte:08b}'\n",
        "        for _bit in __byte:\n",
        "          norm_data += [int(_bit)]\n",
        "    return norm_data"
      ],
      "execution_count": 6,
      "outputs": []
    },
    {
      "cell_type": "code",
      "metadata": {
        "colab": {
          "base_uri": "https://localhost:8080/"
        },
        "id": "RxjbEI1qRjpN",
        "outputId": "b49ddf4e-68b7-4ccd-fe2d-0337f06543f9"
      },
      "source": [
        "seq_bin_path = '/content/lz78_algorithm/files/seq.bin'\n",
        "\n",
        "sum_ones = 0\n",
        "sum_zeros = 0\n",
        "\n",
        "with open(seq_bin_path, 'rb') as file:\n",
        "    data = file.read()\n",
        "    data = normalize_data(data)\n",
        "\n",
        "    for _bit in data:\n",
        "        if _bit == 1:\n",
        "            sum_ones += 1\n",
        "        elif _bit == 0:\n",
        "            sum_zeros += 1\n",
        "\n",
        "print('Sum of ones of original data: {}'.format(sum_ones))\n",
        "print('Sum of zeros of original data: {}'.format(sum_zeros))"
      ],
      "execution_count": 7,
      "outputs": [
        {
          "output_type": "stream",
          "text": [
            "Sum of ones of original data: 384812\n",
            "Sum of zeros of original data: 15188\n"
          ],
          "name": "stdout"
        }
      ]
    },
    {
      "cell_type": "code",
      "metadata": {
        "colab": {
          "base_uri": "https://localhost:8080/",
          "height": 483
        },
        "id": "V27OQ1cXgOZ_",
        "outputId": "06195b46-1f7a-43b7-902d-2a252d1e43d4"
      },
      "source": [
        "rxx = np.correlate(data, data, mode='full')\n",
        "\n",
        "plt.figure(figsize=(10,8))\n",
        "plt.plot(rxx)\n",
        "plt.show()"
      ],
      "execution_count": 8,
      "outputs": [
        {
          "output_type": "display_data",
          "data": {
            "image/png": "[encoded data removed]",
            "text/plain": [
              "<Figure size 720x576 with 1 Axes>"
            ]
          },
          "metadata": {
            "tags": [],
            "needs_background": "light"
          }
        }
      ]
    }
  ]
}